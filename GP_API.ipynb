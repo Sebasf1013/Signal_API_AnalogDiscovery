{
 "cells": [
  {
   "cell_type": "code",
   "execution_count": null,
   "metadata": {
    "vscode": {
     "languageId": "plaintext"
    }
   },
   "outputs": [],
   "source": [
    "import numpy as np\n",
    "import matplotlib.pyplot as plt\n",
    "\n",
    "# Definir parámetros de la señal\n",
    "frecuencia = 1  # Frecuencia en Hz\n",
    "amplitud = 1    # Amplitud de la onda\n",
    "tiempo = np.linspace(0, 2, 1000)  # 2 segundos con 1000 puntos\n",
    "\n",
    "# Crear la señal seno\n",
    "onda_seno = amplitud * np.sin(2 * np.pi * frecuencia * tiempo)\n",
    "\n",
    "# Graficar la señal\n",
    "plt.figure(figsize=(8, 4))\n",
    "plt.plot(tiempo, onda_seno, label=\"Onda Senoidal\", color=\"b\")\n",
    "plt.xlabel(\"Tiempo (s)\")\n",
    "plt.ylabel(\"Amplitud\")\n",
    "plt.title(\"Gráfica de una Onda Senoidal\")\n",
    "plt.grid(True)\n",
    "plt.legend()\n",
    "plt.show()\n"
   ]
  }
 ],
 "metadata": {
  "language_info": {
   "name": "python"
  }
 },
 "nbformat": 4,
 "nbformat_minor": 2
}
